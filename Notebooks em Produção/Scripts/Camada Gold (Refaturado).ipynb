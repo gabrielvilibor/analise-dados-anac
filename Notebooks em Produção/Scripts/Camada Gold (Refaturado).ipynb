{
 "cells": [
  {
   "cell_type": "code",
   "execution_count": 0,
   "metadata": {
    "application/vnd.databricks.v1+cell": {
     "cellMetadata": {
      "byteLimit": 2048000,
      "rowLimit": 10000
     },
     "collapsed": true,
     "inputWidgets": {},
     "nuid": "dcfd495a-40f0-4940-99ea-af59aaa07c97",
     "showTitle": false,
     "tableResultSettingsMap": {},
     "title": ""
    }
   },
   "outputs": [],
   "source": [
    "df = spark.read.parquet(\"dbfs:/mnt/Anac/Silver/anac_silver.parquet/\")\n",
    "df.limit(100).display()"
   ]
  },
  {
   "cell_type": "code",
   "execution_count": 0,
   "metadata": {
    "application/vnd.databricks.v1+cell": {
     "cellMetadata": {
      "byteLimit": 2048000,
      "rowLimit": 10000
     },
     "collapsed": true,
     "inputWidgets": {},
     "nuid": "b38362a2-f9e2-435f-9ced-f569201a244d",
     "showTitle": false,
     "tableResultSettingsMap": {},
     "title": ""
    }
   },
   "outputs": [],
   "source": [
    "#adicionando uma nova coluna somando totas as lesões\n",
    "colunas_a_somar = ['Lesoes_Desconhecidas_Passageiros', 'Lesoes_Desconhecidas_Terceiros', 'Lesoes_Desconhecidas_Tripulantes', 'Lesoes_Fatais_Passageiros', 'Lesoes_Fatais_Terceiros', 'Lesoes_Fatais_Tripulantes', 'Lesoes_Graves_Passageiros', 'Lesoes_Graves_Terceiros', 'Lesoes_Graves_Tripulantes', 'Lesoes_Leves_Passageiros', 'Lesoes_Leves_Terceiros', 'Lesoes_Leves_Tripulantes']\n",
    "\n",
    "df = df.withColumn(\"Total_Lesoes\", sum(df[somartudo] for somartudo in colunas_a_somar))\n",
    "df.limit(100).display()\n"
   ]
  },
  {
   "cell_type": "code",
   "execution_count": 0,
   "metadata": {
    "application/vnd.databricks.v1+cell": {
     "cellMetadata": {
      "byteLimit": 2048000,
      "rowLimit": 10000
     },
     "collapsed": true,
     "inputWidgets": {},
     "nuid": "30a0710d-98d9-479a-82f8-4a8e60767b71",
     "showTitle": false,
     "tableResultSettingsMap": {},
     "title": ""
    }
   },
   "outputs": [],
   "source": [
    "#renomear colunas para facilitar\n",
    "df = df\\\n",
    "    .withColumnRenamed(\"Aerodromo_de_Destino\", \"Destino\")\\\n",
    "    .withColumnRenamed(\"Aerodromo_de_Origem\", \"Origem\")\\\n",
    "    .withColumnRenamed(\"Categoria_da_Aeronave\", \"Categoria\")\\\n",
    "    .withColumnRenamed(\"Classificacao_da_Ocorrencia\", \"Classificacao\")\\\n",
    "    .withColumnRenamed(\"Danos_a_Aeronave\", \"Danos\")\\\n",
    "    .withColumnRenamed(\"Data_da_Ocorrencia\", \"Data\")\\\n",
    "    .withColumnRenamed(\"UF\", \"Estado\")"
   ]
  },
  {
   "cell_type": "code",
   "execution_count": 0,
   "metadata": {
    "application/vnd.databricks.v1+cell": {
     "cellMetadata": {
      "byteLimit": 2048000,
      "rowLimit": 10000
     },
     "collapsed": true,
     "inputWidgets": {},
     "nuid": "7e9bafc1-0ce3-41e5-9e1a-dd572df0238d",
     "showTitle": false,
     "tableResultSettingsMap": {},
     "title": ""
    }
   },
   "outputs": [],
   "source": [
    "#excluir estados que tenham a classificação [Indeterminado, Sem Registro, Exterior]\n",
    "filtro = ['Indeterminado', 'Sem Registro', 'Exterior']\n",
    "df = df.filter(~df['Estado'].isin(filtro))\n",
    "display(df)"
   ]
  },
  {
   "cell_type": "code",
   "execution_count": 0,
   "metadata": {
    "application/vnd.databricks.v1+cell": {
     "cellMetadata": {
      "byteLimit": 2048000,
      "rowLimit": 10000
     },
     "collapsed": true,
     "inputWidgets": {},
     "nuid": "1a9fb407-67c2-4f28-b1f5-d86241536bc0",
     "showTitle": false,
     "tableResultSettingsMap": {},
     "title": ""
    }
   },
   "outputs": [],
   "source": [
    "#inserir colunas com nome de atualizado\n",
    "from pyspark.sql.functions import current_timestamp, date_format, from_utc_timestamp\n",
    "\n",
    "df = df\\\n",
    "    .withColumn(\"Atualizacao\",\n",
    "        date_format(from_utc_timestamp(current_timestamp(), \"America/Sao_Paulo\"), \"dd/MM/yyyy HH:mm:ss\"))\n",
    "\n",
    "df.limit(100).display()"
   ]
  },
  {
   "cell_type": "code",
   "execution_count": 0,
   "metadata": {
    "application/vnd.databricks.v1+cell": {
     "cellMetadata": {
      "byteLimit": 2048000,
      "rowLimit": 10000
     },
     "inputWidgets": {},
     "nuid": "3cdb18cc-9e50-4ab5-89fe-6d639186d6aa",
     "showTitle": false,
     "tableResultSettingsMap": {},
     "title": ""
    }
   },
   "outputs": [],
   "source": [
    "# salvar na camada Gold\n",
    "\n",
    "df.write\\\n",
    "    .mode(\"overwrite\")\\\n",
    "    .format(\"parquet\")\\\n",
    "    .partitionBy(\"Estado\")\\\n",
    "    .save(\"dbfs:/mnt/Anac/Gold/anac_gold/\")"
   ]
  },
  {
   "cell_type": "code",
   "execution_count": 0,
   "metadata": {
    "application/vnd.databricks.v1+cell": {
     "cellMetadata": {
      "byteLimit": 2048000,
      "rowLimit": 10000
     },
     "inputWidgets": {},
     "nuid": "4d2f5b02-a3c9-4242-99f5-fb7de57ce4f5",
     "showTitle": false,
     "tableResultSettingsMap": {},
     "title": ""
    }
   },
   "outputs": [],
   "source": [
    "df = spark.read.parquet(\"dbfs:/mnt/Anac/Gold/anac_gold/\")\n",
    "df.limit(100).display()"
   ]
  }
 ],
 "metadata": {
  "application/vnd.databricks.v1+notebook": {
   "computePreferences": null,
   "dashboards": [],
   "environmentMetadata": {
    "base_environment": "",
    "environment_version": "2"
   },
   "language": "python",
   "notebookMetadata": {
    "mostRecentlyExecutedCommandWithImplicitDF": {
     "commandId": 8447666060634853,
     "dataframes": [
      "_sqldf"
     ]
    },
    "pythonIndentUnit": 4
   },
   "notebookName": "Camada Gold (Refaturado)",
   "widgets": {}
  },
  "language_info": {
   "name": "python"
  }
 },
 "nbformat": 4,
 "nbformat_minor": 0
}
